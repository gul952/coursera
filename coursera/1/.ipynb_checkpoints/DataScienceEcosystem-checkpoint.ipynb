{
 "cells": [
  {
   "cell_type": "markdown",
   "id": "fc78ede0-1d7e-4aae-901b-1e959af059f6",
   "metadata": {},
   "source": [
    "# Data Science Tools and Ecosystem"
   ]
  },
  {
   "cell_type": "markdown",
   "id": "eae14c48-948f-416b-8e9a-967ae297249e",
   "metadata": {},
   "source": [
    "In this notebook, Data Science Tools and Ecosystem are summarized."
   ]
  },
  {
   "cell_type": "markdown",
   "id": "e72bfc1d-e8d6-4349-9e1a-f82ad29c4508",
   "metadata": {},
   "source": [
    "**Objectives:**\n",
    "\n",
    "- List popular languages for Data Science\n",
    "- Show commonly used libraries\n",
    "- Demonstrate simple arithmetic in Python\n",
    "- Create and save a Jupyter Notebook, then share via GitHub\n"
   ]
  },
  {
   "cell_type": "markdown",
   "id": "6d56da08-1e4a-4f67-b78f-7b3d35f26188",
   "metadata": {},
   "source": [
    "Some of the popular languages that Data Scientists use are:\n",
    "\n",
    "1. Python\n",
    "2. R\n",
    "3. SQL\n"
   ]
  },
  {
   "cell_type": "markdown",
   "id": "56a5949f-9e7a-477e-a980-e7961b4bf94a",
   "metadata": {},
   "source": [
    "Some of the commonly used libraries used by Data Scientists include:\n",
    "\n",
    "1. pandas\n",
    "2. NumPy\n",
    "3. scikit-learn\n"
   ]
  },
  {
   "cell_type": "markdown",
   "id": "6b2752a8-a719-43b9-9a88-00611a4bd347",
   "metadata": {},
   "source": [
    "| Data Science Tools |\n",
    "|--------------------|\n",
    "| Jupyter Notebook   |\n",
    "| RStudio            |\n",
    "| VSCode             |\n"
   ]
  },
  {
   "cell_type": "markdown",
   "id": "f6269643-18dc-4a45-a38a-56656f360dac",
   "metadata": {},
   "source": [
    "### Below are a few examples of evaluating arithmetic expressions in Python."
   ]
  },
  {
   "cell_type": "code",
   "execution_count": 5,
   "id": "41f39e79-64b7-4a27-8f28-917067e1d402",
   "metadata": {},
   "outputs": [
    {
     "data": {
      "text/plain": [
       "17"
      ]
     },
     "execution_count": 5,
     "metadata": {},
     "output_type": "execute_result"
    }
   ],
   "source": [
    "(3 * 4) + 5\n"
   ]
  },
  {
   "cell_type": "code",
   "execution_count": 6,
   "id": "92bfb493-4634-40d8-88dd-93efece05fd7",
   "metadata": {},
   "outputs": [
    {
     "data": {
      "text/plain": [
       "3.3333333333333335"
      ]
     },
     "execution_count": 6,
     "metadata": {},
     "output_type": "execute_result"
    }
   ],
   "source": [
    "200 / 60\n"
   ]
  },
  {
   "cell_type": "markdown",
   "id": "def8b5b7-b411-4eca-8d9f-04d49e34b6ba",
   "metadata": {},
   "source": [
    "## Author\n",
    "\n",
    "GulWarina Shah\n"
   ]
  },
  {
   "cell_type": "code",
   "execution_count": null,
   "id": "148089f1-e734-4381-a3ff-88bf963e208d",
   "metadata": {},
   "outputs": [],
   "source": []
  }
 ],
 "metadata": {
  "kernelspec": {
   "display_name": "Python 3 (ipykernel)",
   "language": "python",
   "name": "python3"
  },
  "language_info": {
   "codemirror_mode": {
    "name": "ipython",
    "version": 3
   },
   "file_extension": ".py",
   "mimetype": "text/x-python",
   "name": "python",
   "nbconvert_exporter": "python",
   "pygments_lexer": "ipython3",
   "version": "3.12.4"
  }
 },
 "nbformat": 4,
 "nbformat_minor": 5
}
