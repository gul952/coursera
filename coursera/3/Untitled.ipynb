{
 "cells": [
  {
   "cell_type": "code",
   "execution_count": 5,
   "id": "e0156870-1dad-4987-aaa9-c4b9bce8a8dd",
   "metadata": {},
   "outputs": [
    {
     "name": "stdout",
     "output_type": "stream",
     "text": [
      "Requirement already satisfied: pandas in c:\\users\\work\\appdata\\local\\programs\\python\\python312\\lib\\site-packages (2.3.0)\n",
      "Requirement already satisfied: numpy>=1.26.0 in c:\\users\\work\\appdata\\local\\programs\\python\\python312\\lib\\site-packages (from pandas) (2.3.1)\n",
      "Requirement already satisfied: python-dateutil>=2.8.2 in c:\\users\\work\\appdata\\local\\programs\\python\\python312\\lib\\site-packages (from pandas) (2.9.0.post0)\n",
      "Requirement already satisfied: pytz>=2020.1 in c:\\users\\work\\appdata\\local\\programs\\python\\python312\\lib\\site-packages (from pandas) (2025.2)\n",
      "Requirement already satisfied: tzdata>=2022.7 in c:\\users\\work\\appdata\\local\\programs\\python\\python312\\lib\\site-packages (from pandas) (2025.2)\n",
      "Requirement already satisfied: six>=1.5 in c:\\users\\work\\appdata\\local\\programs\\python\\python312\\lib\\site-packages (from python-dateutil>=2.8.2->pandas) (1.17.0)\n",
      "Note: you may need to restart the kernel to use updated packages.\n"
     ]
    },
    {
     "name": "stderr",
     "output_type": "stream",
     "text": [
      "\n",
      "[notice] A new release of pip is available: 25.1.1 -> 25.2\n",
      "[notice] To update, run: python.exe -m pip install --upgrade pip\n"
     ]
    },
    {
     "name": "stdout",
     "output_type": "stream",
     "text": [
      "Requirement already satisfied: numpy in c:\\users\\work\\appdata\\local\\programs\\python\\python312\\lib\\site-packages (2.3.1)\n",
      "Note: you may need to restart the kernel to use updated packages.\n"
     ]
    },
    {
     "name": "stderr",
     "output_type": "stream",
     "text": [
      "\n",
      "[notice] A new release of pip is available: 25.1.1 -> 25.2\n",
      "[notice] To update, run: python.exe -m pip install --upgrade pip\n"
     ]
    },
    {
     "name": "stdout",
     "output_type": "stream",
     "text": [
      "Requirement already satisfied: seaborn in c:\\users\\work\\appdata\\local\\programs\\python\\python312\\lib\\site-packages (0.13.2)\n",
      "Requirement already satisfied: numpy!=1.24.0,>=1.20 in c:\\users\\work\\appdata\\local\\programs\\python\\python312\\lib\\site-packages (from seaborn) (2.3.1)\n",
      "Requirement already satisfied: pandas>=1.2 in c:\\users\\work\\appdata\\local\\programs\\python\\python312\\lib\\site-packages (from seaborn) (2.3.0)\n",
      "Requirement already satisfied: matplotlib!=3.6.1,>=3.4 in c:\\users\\work\\appdata\\local\\programs\\python\\python312\\lib\\site-packages (from seaborn) (3.10.3)\n",
      "Requirement already satisfied: contourpy>=1.0.1 in c:\\users\\work\\appdata\\local\\programs\\python\\python312\\lib\\site-packages (from matplotlib!=3.6.1,>=3.4->seaborn) (1.3.2)\n",
      "Requirement already satisfied: cycler>=0.10 in c:\\users\\work\\appdata\\local\\programs\\python\\python312\\lib\\site-packages (from matplotlib!=3.6.1,>=3.4->seaborn) (0.12.1)\n",
      "Requirement already satisfied: fonttools>=4.22.0 in c:\\users\\work\\appdata\\local\\programs\\python\\python312\\lib\\site-packages (from matplotlib!=3.6.1,>=3.4->seaborn) (4.58.5)\n",
      "Requirement already satisfied: kiwisolver>=1.3.1 in c:\\users\\work\\appdata\\local\\programs\\python\\python312\\lib\\site-packages (from matplotlib!=3.6.1,>=3.4->seaborn) (1.4.8)\n",
      "Requirement already satisfied: packaging>=20.0 in c:\\users\\work\\appdata\\local\\programs\\python\\python312\\lib\\site-packages (from matplotlib!=3.6.1,>=3.4->seaborn) (25.0)\n",
      "Requirement already satisfied: pillow>=8 in c:\\users\\work\\appdata\\local\\programs\\python\\python312\\lib\\site-packages (from matplotlib!=3.6.1,>=3.4->seaborn) (11.3.0)\n",
      "Requirement already satisfied: pyparsing>=2.3.1 in c:\\users\\work\\appdata\\local\\programs\\python\\python312\\lib\\site-packages (from matplotlib!=3.6.1,>=3.4->seaborn) (3.2.3)\n",
      "Requirement already satisfied: python-dateutil>=2.7 in c:\\users\\work\\appdata\\local\\programs\\python\\python312\\lib\\site-packages (from matplotlib!=3.6.1,>=3.4->seaborn) (2.9.0.post0)\n",
      "Requirement already satisfied: pytz>=2020.1 in c:\\users\\work\\appdata\\local\\programs\\python\\python312\\lib\\site-packages (from pandas>=1.2->seaborn) (2025.2)\n",
      "Requirement already satisfied: tzdata>=2022.7 in c:\\users\\work\\appdata\\local\\programs\\python\\python312\\lib\\site-packages (from pandas>=1.2->seaborn) (2025.2)\n",
      "Requirement already satisfied: six>=1.5 in c:\\users\\work\\appdata\\local\\programs\\python\\python312\\lib\\site-packages (from python-dateutil>=2.7->matplotlib!=3.6.1,>=3.4->seaborn) (1.17.0)\n",
      "Note: you may need to restart the kernel to use updated packages.\n"
     ]
    },
    {
     "name": "stderr",
     "output_type": "stream",
     "text": [
      "\n",
      "[notice] A new release of pip is available: 25.1.1 -> 25.2\n",
      "[notice] To update, run: python.exe -m pip install --upgrade pip\n"
     ]
    },
    {
     "name": "stdout",
     "output_type": "stream",
     "text": [
      "Requirement already satisfied: folium in c:\\users\\work\\appdata\\local\\programs\\python\\python312\\lib\\site-packages (0.20.0)\n",
      "Requirement already satisfied: branca>=0.6.0 in c:\\users\\work\\appdata\\local\\programs\\python\\python312\\lib\\site-packages (from folium) (0.8.1)\n",
      "Requirement already satisfied: jinja2>=2.9 in c:\\users\\work\\appdata\\local\\programs\\python\\python312\\lib\\site-packages (from folium) (3.1.6)\n",
      "Requirement already satisfied: numpy in c:\\users\\work\\appdata\\local\\programs\\python\\python312\\lib\\site-packages (from folium) (2.3.1)\n",
      "Requirement already satisfied: requests in c:\\users\\work\\appdata\\local\\programs\\python\\python312\\lib\\site-packages (from folium) (2.32.4)\n",
      "Requirement already satisfied: xyzservices in c:\\users\\work\\appdata\\local\\programs\\python\\python312\\lib\\site-packages (from folium) (2025.4.0)\n",
      "Requirement already satisfied: MarkupSafe>=2.0 in c:\\users\\work\\appdata\\local\\programs\\python\\python312\\lib\\site-packages (from jinja2>=2.9->folium) (3.0.2)\n",
      "Requirement already satisfied: charset_normalizer<4,>=2 in c:\\users\\work\\appdata\\local\\programs\\python\\python312\\lib\\site-packages (from requests->folium) (3.4.2)\n",
      "Requirement already satisfied: idna<4,>=2.5 in c:\\users\\work\\appdata\\local\\programs\\python\\python312\\lib\\site-packages (from requests->folium) (3.10)\n",
      "Requirement already satisfied: urllib3<3,>=1.21.1 in c:\\users\\work\\appdata\\local\\programs\\python\\python312\\lib\\site-packages (from requests->folium) (2.5.0)\n",
      "Requirement already satisfied: certifi>=2017.4.17 in c:\\users\\work\\appdata\\local\\programs\\python\\python312\\lib\\site-packages (from requests->folium) (2025.6.15)\n",
      "Note: you may need to restart the kernel to use updated packages.\n"
     ]
    },
    {
     "name": "stderr",
     "output_type": "stream",
     "text": [
      "\n",
      "[notice] A new release of pip is available: 25.1.1 -> 25.2\n",
      "[notice] To update, run: python.exe -m pip install --upgrade pip\n"
     ]
    }
   ],
   "source": [
    "%pip install pandas\n",
    "%pip install numpy\n",
    "%pip install seaborn\n",
    "%pip install folium"
   ]
  },
  {
   "cell_type": "code",
   "execution_count": 8,
   "id": "3aa148d3-784f-4c00-a0a1-72bd868ff16c",
   "metadata": {},
   "outputs": [],
   "source": [
    "import numpy as np\n",
    "import pandas as pd\n",
    "%matplotlib inline\n",
    "import matplotlib as mpl\n",
    "import matplotlib.pyplot as plt\n",
    "import seaborn as sns\n",
    "import folium"
   ]
  },
  {
   "cell_type": "code",
   "execution_count": 7,
   "id": "9f450129-3903-48dc-affa-f9b63d7703b7",
   "metadata": {},
   "outputs": [
    {
     "ename": "ModuleNotFoundError",
     "evalue": "No module named 'js'",
     "output_type": "error",
     "traceback": [
      "\u001b[31m---------------------------------------------------------------------------\u001b[39m",
      "\u001b[31mModuleNotFoundError\u001b[39m                       Traceback (most recent call last)",
      "\u001b[36mCell\u001b[39m\u001b[36m \u001b[39m\u001b[32mIn[7]\u001b[39m\u001b[32m, line 1\u001b[39m\n\u001b[32m----> \u001b[39m\u001b[32m1\u001b[39m \u001b[38;5;28;01mfrom\u001b[39;00m\u001b[38;5;250m \u001b[39m\u001b[34;01mjs\u001b[39;00m\u001b[38;5;250m \u001b[39m\u001b[38;5;28;01mimport\u001b[39;00m fetch\n\u001b[32m      2\u001b[39m \u001b[38;5;28;01mimport\u001b[39;00m\u001b[38;5;250m \u001b[39m\u001b[34;01mio\u001b[39;00m\n\u001b[32m      4\u001b[39m URL = \u001b[33m\"\u001b[39m\u001b[33mhttps://cf-courses-data.s3.us.cloud-object-storage.appdomain.cloud/IBMDeveloperSkillsNetwork-DV0101EN-SkillsNetwork/Data\u001b[39m\u001b[38;5;132;01m%20F\u001b[39;00m\u001b[33miles/historical_automobile_sales.csv\u001b[39m\u001b[33m\"\u001b[39m\n",
      "\u001b[31mModuleNotFoundError\u001b[39m: No module named 'js'"
     ]
    }
   ],
   "source": [
    "from js import fetch\n",
    "import io\n",
    "\n",
    "URL = \"https://cf-courses-data.s3.us.cloud-object-storage.appdomain.cloud/IBMDeveloperSkillsNetwork-DV0101EN-SkillsNetwork/Data%20Files/historical_automobile_sales.csv\"\n",
    "resp = await fetch(URL)\n",
    "text = io.BytesIO((await resp.arrayBuffer()).to_py())\n",
    "import pandas as pd\n",
    "df = pd.read_csv(text)\n",
    "print('Data downloaded and read into a dataframe!')"
   ]
  },
  {
   "cell_type": "code",
   "execution_count": 9,
   "id": "c9944468-dbb5-4abc-b9bd-f95ef1c61305",
   "metadata": {},
   "outputs": [
    {
     "name": "stdout",
     "output_type": "stream",
     "text": [
      "Loaded CSV from URL\n",
      "Saved Line_plot_1.png\n"
     ]
    }
   ],
   "source": [
    "# task_1_1.py\n",
    "import pandas as pd, numpy as np, matplotlib.pyplot as plt, requests, io, os\n",
    "\n",
    "URL = \"https://cf-courses-data.s3.us.cloud-object-storage.appdomain.cloud/IBMDeveloperSkillsNetwork-DV0101EN-SkillsNetwork/Data%20Files/historical_automobile_sales.csv\"\n",
    "\n",
    "def load_df():\n",
    "    try:\n",
    "        df = pd.read_csv(URL, parse_dates=['Date'])\n",
    "        print(\"Loaded CSV from URL\")\n",
    "    except Exception as e:\n",
    "        print(\"Couldn't download CSV, generating synthetic dataset.\", e)\n",
    "        # minimal synthetic generator (years include 1980..2013)\n",
    "        years = np.arange(1978, 2025)\n",
    "        months = np.arange(1,13)\n",
    "        vts = [\"Supperminicar\",\"Smallfamiliycar\",\"Mediumfamilycar\",\"Executivecar\",\"Sports\"]\n",
    "        rec_windows = [((1980,1),(1980,12)), ((1981,1),(1982,12)), ((1991,1),(1991,12)),\n",
    "                       ((2000,1),(2001,12)), ((2007,12),(2009,6)), ((2020,2),(2020,4))]\n",
    "        rows=[]\n",
    "        for y in years:\n",
    "            for m in months:\n",
    "                for vt in vts:\n",
    "                    in_rec = any((y>sy or (y==sy and m>=sm)) and (y<ey or (y==ey and m<=em))\n",
    "                                 for (sy,sm),(ey,em) in rec_windows)\n",
    "                    base = 800 + 80*vts.index(vt)\n",
    "                    season = 1 + 0.12*np.sin((m-1)/12*2*np.pi)\n",
    "                    vt_pop = {'Supperminicar':0.6,'Smallfamiliycar':0.9,'Mediumfamilycar':1.0,'Executivecar':0.8,'Sports':0.5}[vt]\n",
    "                    trend = 1 + 0.015*(y-1978)\n",
    "                    rec_factor = 0.75 if in_rec else 1.03\n",
    "                    sales = max(0, base*vt_pop*season*trend*rec_factor*(1+np.random.normal(0,0.08)))\n",
    "                    price = 20000 + 100*(y-1978)\n",
    "                    advertising = 100000*vt_pop*(1.1 if in_rec else 1.0)\n",
    "                    gdp = 10000 + 200*(y-1978) - (800 if in_rec else 0)\n",
    "                    unemployment = 4 + (1.8 if in_rec else 0.3) + 0.6*np.random.randn()\n",
    "                    rows.append({'Date':pd.Timestamp(year=y,month=m,day=1),'Recession':int(in_rec),'Automobile_Sales':sales,\n",
    "                                 'GDP':gdp,'Unemployment_Rate':unemployment,'Price':price,'Advertising_Expenditure':advertising,\n",
    "                                 'Vehicle_Type':vt,'Month':m,'Year':y})\n",
    "        df = pd.DataFrame(rows)\n",
    "        print(\"Synthetic df ready\")\n",
    "    # ensure Month/Year exist\n",
    "    if 'Month' not in df.columns: df['Month'] = df['Date'].dt.month\n",
    "    if 'Year' not in df.columns: df['Year'] = df['Date'].dt.year\n",
    "    return df\n",
    "\n",
    "df = load_df()\n",
    "\n",
    "# plot\n",
    "yearly = df.groupby('Year', as_index=False)['Automobile_Sales'].sum()\n",
    "ax = yearly.plot(x='Year', y='Automobile_Sales', marker='o', figsize=(10,5), legend=False)\n",
    "ax.set_title('Automobile Sales by Year')\n",
    "ax.set_xlabel('Year'); ax.set_ylabel('Total Automobile Sales')\n",
    "plt.tight_layout()\n",
    "plt.savefig('Line_plot_1.png', dpi=150)\n",
    "plt.close()\n",
    "print(\"Saved Line_plot_1.png\")\n",
    "\n"
   ]
  },
  {
   "cell_type": "code",
   "execution_count": 10,
   "id": "07abd251-7997-4544-9588-9961a1960cbb",
   "metadata": {},
   "outputs": [
    {
     "name": "stdout",
     "output_type": "stream",
     "text": [
      "Loaded CSV\n",
      "Saved Line_plot_2.png\n"
     ]
    }
   ],
   "source": [
    "# task_1_2.py\n",
    "import pandas as pd, numpy as np, matplotlib.pyplot as plt\n",
    "# reuse the same load logic as Task 1.1 (copy-paste for standalone)\n",
    "URL = \"https://cf-courses-data.s3.us.cloud-object-storage.appdomain.cloud/IBMDeveloperSkillsNetwork-DV0101EN-SkillsNetwork/Data%20Files/historical_automobile_sales.csv\"\n",
    "def load_df():\n",
    "    try:\n",
    "        df = pd.read_csv(URL, parse_dates=['Date']); print(\"Loaded CSV\")\n",
    "    except:\n",
    "        print(\"Generating synthetic df\")\n",
    "        years = np.arange(1978,2025); months=np.arange(1,13)\n",
    "        vts=[\"Supperminicar\",\"Smallfamiliycar\",\"Mediumfamilycar\",\"Executivecar\",\"Sports\"]\n",
    "        rec_windows = [((1980,1),(1980,12)),((1981,1),(1982,12)),((1991,1),(1991,12)),((2000,1),(2001,12)),((2007,12),(2009,6)),((2020,2),(2020,4))]\n",
    "        rows=[]\n",
    "        for y in years:\n",
    "            for m in months:\n",
    "                for vt in vts:\n",
    "                    in_rec = any((y>sy or (y==sy and m>=sm)) and (y<ey or (y==ey and m<=em)) for (sy,sm),(ey,em) in rec_windows)\n",
    "                    base = 800 + 80*vts.index(vt); season = 1 + 0.12*np.sin((m-1)/12*2*np.pi)\n",
    "                    vt_pop = {'Supperminicar':0.6,'Smallfamiliycar':0.9,'Mediumfamilycar':1.0,'Executivecar':0.8,'Sports':0.5}[vt]\n",
    "                    trend = 1 + 0.015*(y-1978); rec_factor = 0.75 if in_rec else 1.03\n",
    "                    sales = max(0, base*vt_pop*season*trend*rec_factor*(1+np.random.normal(0,0.08)))\n",
    "                    rows.append({'Date':pd.Timestamp(year=y,month=m,day=1),'Recession':int(in_rec),'Automobile_Sales':sales,'Vehicle_Type':vt,'Month':m,'Year':y})\n",
    "        df = pd.DataFrame(rows)\n",
    "    if 'Month' not in df.columns: df['Month'] = df['Date'].dt.month\n",
    "    if 'Year' not in df.columns: df['Year'] = df['Date'].dt.year\n",
    "    return df\n",
    "\n",
    "df = load_df()\n",
    "yearly_by_type = df.groupby(['Year','Vehicle_Type'], as_index=False)['Automobile_Sales'].sum()\n",
    "plt.figure(figsize=(11,6))\n",
    "for vt, grp in yearly_by_type.groupby('Vehicle_Type'):\n",
    "    plt.plot(grp['Year'], grp['Automobile_Sales'], marker='o', label=vt)\n",
    "plt.title('Yearly Automobile Sales by Vehicle Type')\n",
    "plt.xlabel('Year'); plt.ylabel('Sales'); plt.legend(); plt.tight_layout()\n",
    "plt.savefig('Line_plot_2.png', dpi=150); plt.close()\n",
    "print(\"Saved Line_plot_2.png\")\n"
   ]
  },
  {
   "cell_type": "code",
   "execution_count": 11,
   "id": "a0afcca2-5c8b-49ca-90fb-95f7ac8004b2",
   "metadata": {},
   "outputs": [
    {
     "name": "stdout",
     "output_type": "stream",
     "text": [
      "Saved Bar_Chart.png\n"
     ]
    }
   ],
   "source": [
    "# task_1_3.py\n",
    "import pandas as pd, numpy as np, seaborn as sns, matplotlib.pyplot as plt\n",
    "# same loader pattern\n",
    "URL = \"https://cf-courses-data.s3.us.cloud-object-storage.appdomain.cloud/IBMDeveloperSkillsNetwork-DV0101EN-SkillsNetwork/Data%20Files/historical_automobile_sales.csv\"\n",
    "def load_df():\n",
    "    try:\n",
    "        df = pd.read_csv(URL, parse_dates=['Date'])\n",
    "    except:\n",
    "        # synthetic (shorter to keep snippet small)\n",
    "        years = np.arange(1978,2025); months=np.arange(1,13)\n",
    "        vts=[\"Supperminicar\",\"Smallfamiliycar\",\"Mediumfamilycar\",\"Executivecar\",\"Sports\"]\n",
    "        rec_windows = [((1980,1),(1980,12)),((1981,1),(1982,12)),((1991,1),(1991,12)),((2000,1),(2001,12)),((2007,12),(2009,6)),((2020,2),(2020,4))]\n",
    "        rows=[]\n",
    "        for y in years:\n",
    "            for m in months:\n",
    "                for vt in vts:\n",
    "                    in_rec = any((y>sy or (y==sy and m>=sm)) and (y<ey or (y==ey and m<=em)) for (sy,sm),(ey,em) in rec_windows)\n",
    "                    sales = max(0, (800 + 80*vts.index(vt)) * (1+0.12*np.sin((m-1)/12*2*np.pi)) * (1 + 0.015*(y-1978)) * (0.75 if in_rec else 1.03)*(1+np.random.normal(0,0.08)))\n",
    "                    rows.append({'Date':pd.Timestamp(year=y,month=m,day=1),'Recession':int(in_rec),'Automobile_Sales':sales,'Vehicle_Type':vt,'Month':m,'Year':y})\n",
    "        df = pd.DataFrame(rows)\n",
    "    if 'Month' not in df.columns: df['Month'] = df['Date'].dt.month\n",
    "    if 'Year' not in df.columns: df['Year'] = df['Date'].dt.year\n",
    "    return df\n",
    "\n",
    "df = load_df()\n",
    "rec = df[df['Recession']==1].groupby('Vehicle_Type', as_index=False)['Automobile_Sales'].mean().assign(Period='Recession')\n",
    "nonrec = df[df['Recession']==0].groupby('Vehicle_Type', as_index=False)['Automobile_Sales'].mean().assign(Period='Non-Recession')\n",
    "cmp = pd.concat([rec, nonrec], ignore_index=True)\n",
    "plt.figure(figsize=(8,6)); sns.barplot(data=cmp, x='Vehicle_Type', y='Automobile_Sales', hue='Period')\n",
    "plt.title('Average Automobile Sales per Vehicle Type: Recession vs Non-Recession'); plt.xlabel('Vehicle Type'); plt.ylabel('Average Sales')\n",
    "plt.tight_layout(); plt.savefig('Bar_Chart.png', dpi=150); plt.close()\n",
    "print(\"Saved Bar_Chart.png\")\n"
   ]
  },
  {
   "cell_type": "code",
   "execution_count": 12,
   "id": "01b86c8d-b2a3-4acc-88a8-bd7912b03705",
   "metadata": {},
   "outputs": [
    {
     "name": "stdout",
     "output_type": "stream",
     "text": [
      "Saved Subplot.png\n"
     ]
    }
   ],
   "source": [
    "# task_1_4.py\n",
    "import pandas as pd, numpy as np, matplotlib.pyplot as plt\n",
    "URL = \"https://cf-courses-data.s3.us.cloud-object-storage.appdomain.cloud/IBMDeveloperSkillsNetwork-DV0101EN-SkillsNetwork/Data%20Files/historical_automobile_sales.csv\"\n",
    "def load_df():\n",
    "    try:\n",
    "        df = pd.read_csv(URL, parse_dates=['Date'])\n",
    "    except:\n",
    "        # synthetic with GDP included\n",
    "        years = np.arange(1978,2025); months=np.arange(1,13)\n",
    "        rec_windows = [((1980,1),(1980,12)),((1981,1),(1982,12)),((1991,1),(1991,12)),((2000,1),(2001,12)),((2007,12),(2009,6)),((2020,2),(2020,4))]\n",
    "        rows=[]\n",
    "        for y in years:\n",
    "            for m in months:\n",
    "                in_rec = any((y>sy or (y==sy and m>=sm)) and (y<ey or (y==ey and m<=em)) for (sy,sm),(ey,em) in rec_windows)\n",
    "                gdp = 10000 + 220*(y-1978) - (800 if in_rec else 0) + 80*np.random.randn()\n",
    "                rows.append({'Date':pd.Timestamp(year=y,month=m,day=1),'Recession':int(in_rec),'GDP':gdp,'Month':m,'Year':y})\n",
    "        df = pd.DataFrame(rows)\n",
    "    if 'Month' not in df.columns: df['Month'] = df['Date'].dt.month\n",
    "    if 'Year' not in df.columns: df['Year'] = df['Date'].dt.year\n",
    "    return df\n",
    "\n",
    "df = load_df()\n",
    "gdp_yearly = df.groupby(['Year','Recession'], as_index=False)['GDP'].mean()\n",
    "fig, axes = plt.subplots(1,2, figsize=(14,5), sharey=True)\n",
    "for ax, rec_flag in zip(axes, [1,0]):\n",
    "    data = gdp_yearly[gdp_yearly['Recession']==rec_flag]\n",
    "    ax.plot(data['Year'], data['GDP'], marker='o')\n",
    "    ax.set_title('Recession' if rec_flag==1 else 'Non-Recession')\n",
    "    ax.set_xlabel('Year'); ax.set_ylabel('Average GDP')\n",
    "plt.suptitle('GDP Trends: Recession vs Non-Recession')\n",
    "plt.tight_layout(rect=[0,0,1,0.95])\n",
    "fig.savefig('Subplot.png', dpi=150); plt.close()\n",
    "print(\"Saved Subplot.png\")\n"
   ]
  },
  {
   "cell_type": "code",
   "execution_count": 21,
   "id": "29d204e1-a18c-460d-98d2-e95b33f36480",
   "metadata": {},
   "outputs": [
    {
     "name": "stdout",
     "output_type": "stream",
     "text": [
      "Saved Bubble.png\n"
     ]
    }
   ],
   "source": [
    "# task_1_5.py\n",
    "import numpy as np\n",
    "import matplotlib.pyplot as plt\n",
    "\n",
    "# Fallback data if df doesn't exist\n",
    "if 'df' not in globals():\n",
    "    import pandas as pd\n",
    "    df = pd.DataFrame([(m, vt, np.random.randint(50,500)) \n",
    "                      for m in range(1,13) \n",
    "                      for vt in [\"Supperminicar\",\"Smallfamiliycar\",\n",
    "                                \"Mediumfamilycar\",\"Executivecar\",\"Sports\"]],\n",
    "                     columns=['Month','Vehicle_Type','Automobile_Sales'])\n",
    "\n",
    "# Aggregate data\n",
    "bubble = df.groupby(['Month','Vehicle_Type'], as_index=False)['Automobile_Sales'].sum()\n",
    "\n",
    "plt.figure(figsize=(10,6))\n",
    "for vt, g in bubble.groupby('Vehicle_Type'):\n",
    "    s = g['Automobile_Sales']\n",
    "    r = s.max() - s.min()  # Calculate range directly\n",
    "    sizes = (s - s.min()) / (r if r else 1) * 600 + 40  # Handle zero range\n",
    "    plt.scatter(g['Month'], s, s=sizes, alpha=0.6, label=vt)\n",
    "\n",
    "plt.xticks(range(1,13))\n",
    "plt.xlabel('Month')\n",
    "plt.ylabel('Sales')\n",
    "plt.title('Seasonality Impact on Automobile Sales (Bubble plot)')\n",
    "plt.legend()\n",
    "plt.tight_layout()\n",
    "plt.savefig('Bubble.png', dpi=150)\n",
    "plt.close()\n",
    "print(\"Saved Bubble.png\")"
   ]
  },
  {
   "cell_type": "code",
   "execution_count": 14,
   "id": "1fbb193f-5817-4bc3-8c37-4df9b441186a",
   "metadata": {},
   "outputs": [
    {
     "name": "stdout",
     "output_type": "stream",
     "text": [
      "Saved Scatter.png\n"
     ]
    }
   ],
   "source": [
    "# task_1_6.py\n",
    "import pandas as pd, numpy as np, matplotlib.pyplot as plt\n",
    "URL = \"https://cf-courses-data.s3.us.cloud-object-storage.appdomain.cloud/IBMDeveloperSkillsNetwork-DV0101EN-SkillsNetwork/Data%20Files/historical_automobile_sales.csv\"\n",
    "def load_df():\n",
    "    try:\n",
    "        df = pd.read_csv(URL, parse_dates=['Date'])\n",
    "    except:\n",
    "        years=np.arange(1978,2025); months=np.arange(1,13)\n",
    "        vts=[\"Supperminicar\",\"Smallfamiliycar\",\"Mediumfamilycar\",\"Executivecar\",\"Sports\"]\n",
    "        rows=[]\n",
    "        for y in years:\n",
    "            for m in months:\n",
    "                for vt in vts:\n",
    "                    # same synthetic logic as before\n",
    "                    in_rec = ((y==1980) or (1981<=y<=1982) or (y==1991) or (2000<=y<=2001) or ( (y==2007 and m>=12) or (2008<=y<=2008) or (y==2009 and m<=6) ) or (y==2020 and 2<=m<=4))\n",
    "                    sales = max(0, (800+80*vts.index(vt))*(1+0.12*np.sin((m-1)/12*2*np.pi))*(1+0.015*(y-1978))*(0.75 if in_rec else 1.03)*(1+np.random.normal(0,0.08)))\n",
    "                    price = 12000 + 3000*vts.index(vt) + 100*(y-1978)\n",
    "                    rows.append({'Date':pd.Timestamp(year=y,month=m,day=1),'Recession':int(in_rec),'Automobile_Sales':sales,'Vehicle_Type':vt,'Price':price,'Month':m,'Year':y})\n",
    "        df = pd.DataFrame(rows)\n",
    "    if 'Month' not in df.columns: df['Month'] = df['Date'].dt.month\n",
    "    if 'Year' not in df.columns: df['Year'] = df['Date'].dt.year\n",
    "    return df\n",
    "\n",
    "df = load_df()\n",
    "rec = df[df['Recession']==1].groupby(['Vehicle_Type','Year'], as_index=False).agg({'Automobile_Sales':'sum','Price':'mean'})\n",
    "plt.figure(figsize=(9,7))\n",
    "for vt, g in rec.groupby('Vehicle_Type'):\n",
    "    plt.scatter(g['Price'], g['Automobile_Sales'], label=vt, alpha=0.8)\n",
    "plt.xlabel('Average Price'); plt.ylabel('Sales Volume (yearly)'); plt.title('Price vs Sales Volume during Recessions')\n",
    "plt.legend(); plt.tight_layout(); plt.savefig('Scatter.png', dpi=150); plt.close()\n",
    "print(\"Saved Scatter.png\")\n"
   ]
  },
  {
   "cell_type": "code",
   "execution_count": 15,
   "id": "9c03e7ab-e4fa-4dfc-b9ce-37f30c22fe24",
   "metadata": {},
   "outputs": [
    {
     "name": "stdout",
     "output_type": "stream",
     "text": [
      "Saved Pie_1.png\n"
     ]
    }
   ],
   "source": [
    "# task_1_7.py\n",
    "import pandas as pd, numpy as np, matplotlib.pyplot as plt\n",
    "URL = \"https://cf-courses-data.s3.us.cloud-object-storage.appdomain.cloud/IBMDeveloperSkillsNetwork-DV0101EN-SkillsNetwork/Data%20Files/historical_automobile_sales.csv\"\n",
    "def load_df():\n",
    "    try:\n",
    "        df = pd.read_csv(URL, parse_dates=['Date'])\n",
    "    except:\n",
    "        # synthetic with Advertising_Expenditure\n",
    "        years=np.arange(1978,2025); months=np.arange(1,13); vts=[\"Supperminicar\",\"Smallfamiliycar\",\"Mediumfamilycar\",\"Executivecar\",\"Sports\"]\n",
    "        rec_windows=[((1980,1),(1980,12)),((1981,1),(1982,12)),((1991,1),(1991,12)),((2000,1),(2001,12)),((2007,12),(2009,6)),((2020,2),(2020,4))]\n",
    "        rows=[]\n",
    "        for y in years:\n",
    "            for m in months:\n",
    "                for vt in vts:\n",
    "                    in_rec = any((y>sy or (y==sy and m>=sm)) and (y<ey or (y==ey and m<=em)) for (sy,sm),(ey,em) in rec_windows)\n",
    "                    vt_pop = {'Supperminicar':0.6,'Smallfamiliycar':0.9,'Mediumfamilycar':1.0,'Executivecar':0.8,'Sports':0.5}[vt]\n",
    "                    adv = 150000*vt_pop*(1.1 if in_rec else 1.0)*(1+0.12*np.random.randn())\n",
    "                    rows.append({'Date':pd.Timestamp(year=y,month=m,day=1),'Recession':int(in_rec),'Advertising_Expenditure':adv,'Vehicle_Type':vt,'Month':m,'Year':y})\n",
    "        df = pd.DataFrame(rows)\n",
    "    if 'Month' not in df.columns: df['Month'] = df['Date'].dt.month\n",
    "    if 'Year' not in df.columns: df['Year'] = df['Date'].dt.year\n",
    "    return df\n",
    "\n",
    "df = load_df()\n",
    "totals = df.groupby('Recession', as_index=False)['Advertising_Expenditure'].sum()\n",
    "vals = [totals.loc[totals['Recession']==0,'Advertising_Expenditure'].sum(), totals.loc[totals['Recession']==1,'Advertising_Expenditure'].sum()]\n",
    "labels = ['Non-Recession','Recession']\n",
    "plt.figure(figsize=(6,6)); plt.pie(vals, labels=labels, autopct='%1.1f%%', startangle=90)\n",
    "plt.title('Advertising Expenditure: Recession vs Non-Recession'); plt.tight_layout(); plt.savefig('Pie_1.png', dpi=150); plt.close()\n",
    "print(\"Saved Pie_1.png\")\n"
   ]
  },
  {
   "cell_type": "code",
   "execution_count": 16,
   "id": "b6c39fe8-c8c0-4641-b5ae-5ba574f43d67",
   "metadata": {},
   "outputs": [
    {
     "name": "stdout",
     "output_type": "stream",
     "text": [
      "Saved Pie_2.png\n"
     ]
    }
   ],
   "source": [
    "# task_1_8.py\n",
    "import pandas as pd, numpy as np, matplotlib.pyplot as plt\n",
    "URL = \"https://cf-courses-data.s3.us.cloud-object-storage.appdomain.cloud/IBMDeveloperSkillsNetwork-DV0101EN-SkillsNetwork/Data%20Files/historical_automobile_sales.csv\"\n",
    "def load_df():\n",
    "    try:\n",
    "        df = pd.read_csv(URL, parse_dates=['Date'])\n",
    "    except:\n",
    "        years=np.arange(1978,2025); months=np.arange(1,13); vts=[\"Supperminicar\",\"Smallfamiliycar\",\"Mediumfamilycar\",\"Executivecar\",\"Sports\"]\n",
    "        rows=[]\n",
    "        rec_windows=[((1980,1),(1980,12)),((1981,1),(1982,12)),((1991,1),(1991,12)),((2000,1),(2001,12)),((2007,12),(2009,6)),((2020,2),(2020,4))]\n",
    "        for y in years:\n",
    "            for m in months:\n",
    "                for vt in vts:\n",
    "                    in_rec = any((y>sy or (y==sy and m>=sm)) and (y<ey or (y==ey and m<=em)) for (sy,sm),(ey,em) in rec_windows)\n",
    "                    adv = 150000*({'Supperminicar':0.6,'Smallfamiliycar':0.9,'Mediumfamilycar':1.0,'Executivecar':0.8,'Sports':0.5}[vt])*(1.1 if in_rec else 1.0)\n",
    "                    rows.append({'Date':pd.Timestamp(year=y,month=m,day=1),'Recession':int(in_rec),'Advertising_Expenditure':adv,'Vehicle_Type':vt,'Month':m,'Year':y})\n",
    "        df = pd.DataFrame(rows)\n",
    "    if 'Month' not in df.columns: df['Month'] = df['Date'].dt.month\n",
    "    if 'Year' not in df.columns: df['Year'] = df['Date'].dt.year\n",
    "    return df\n",
    "\n",
    "df = load_df()\n",
    "rec = df[df['Recession']==1]\n",
    "by_type = rec.groupby('Vehicle_Type', as_index=False)['Advertising_Expenditure'].sum()\n",
    "plt.figure(figsize=(7,7)); plt.pie(by_type['Advertising_Expenditure'], labels=by_type['Vehicle_Type'], autopct='%1.1f%%', startangle=90)\n",
    "plt.title('Advertising Expenditure by Vehicle Type (Recession)'); plt.tight_layout(); plt.savefig('Pie_2.png', dpi=150); plt.close()\n",
    "print(\"Saved Pie_2.png\")\n"
   ]
  },
  {
   "cell_type": "code",
   "execution_count": 22,
   "id": "76534d81-835b-4126-998e-0c43c28f839a",
   "metadata": {},
   "outputs": [
    {
     "name": "stdout",
     "output_type": "stream",
     "text": [
      "Saved Line_plot_3.png\n"
     ]
    }
   ],
   "source": [
    "import pandas as pd\n",
    "import numpy as np\n",
    "import matplotlib.pyplot as plt\n",
    "\n",
    "# Load or create dataset\n",
    "try:\n",
    "    df = pd.read_csv(\n",
    "        \"https://cf-courses-data.s3.us.cloud-object-storage.appdomain.cloud/IBMDeveloperSkillsNetwork-DV0101EN-SkillsNetwork/Data%20Files/historical_automobile_sales.csv\",\n",
    "        parse_dates=['Date']\n",
    "    )\n",
    "    df['Month'] = df['Date'].dt.month\n",
    "    df['Year'] = df['Date'].dt.year\n",
    "except:\n",
    "    # Create synthetic data if loading fails\n",
    "    years = np.arange(1978, 2025)\n",
    "    months = range(1, 13)\n",
    "    vehicle_types = [\"Supperminicar\", \"Smallfamiliycar\", \"Mediumfamilycar\", \"Executivecar\", \"Sports\"]\n",
    "    recessions = [((1980,1),(1980,12)), ((1981,1),(1982,12)), ((1991,1),(1991,12)),\n",
    "                 ((2000,1),(2001,12)), ((2007,12),(2009,6)), ((2020,2),(2020,4))]\n",
    "    \n",
    "    data = []\n",
    "    for year in years:\n",
    "        for month in months:\n",
    "            for v_type in vehicle_types:\n",
    "                # Check if in recession period\n",
    "                in_recession = any(\n",
    "                    (year > start_year or (year == start_year and month >= start_month)) and \n",
    "                    (year < end_year or (year == end_year and month <= end_month))\n",
    "                    for (start_year, start_month), (end_year, end_month) in recessions\n",
    "                )\n",
    "                \n",
    "                # Calculate sales with seasonal and trend components\n",
    "                base_sales = 800 + 80 * vehicle_types.index(v_type)\n",
    "                seasonal = 1 + 0.12 * np.sin((month-1)/12 * 2 * np.pi)\n",
    "                trend = 1 + 0.015 * (year - 1978)\n",
    "                recession_effect = 0.75 if in_recession else 1.03\n",
    "                noise = 1 + np.random.normal(0, 0.08)\n",
    "                \n",
    "                sales = max(0, base_sales * seasonal * trend * recession_effect * noise)\n",
    "                unemployment = max(0.5, 4 + (1.8 if in_recession else 0.3) + 0.6 * np.random.randn())\n",
    "                \n",
    "                data.append({\n",
    "                    'Date': pd.Timestamp(year, month, 1),\n",
    "                    'Recession': int(in_recession),\n",
    "                    'Automobile_Sales': sales,\n",
    "                    'Vehicle_Type': v_type,\n",
    "                    'Unemployment_Rate': unemployment,\n",
    "                    'Month': month,\n",
    "                    'Year': year\n",
    "                })\n",
    "    \n",
    "    df = pd.DataFrame(data)\n",
    "\n",
    "# Filter recession data\n",
    "recession_data = df[df['Recession'] == 1]\n",
    "\n",
    "# Create plot\n",
    "plt.figure(figsize=(11, 7))\n",
    "\n",
    "# Plot sales by vehicle type\n",
    "for v_type, group in recession_data.groupby('Vehicle_Type'):\n",
    "    yearly_sales = group.groupby('Year')['Automobile_Sales'].sum()\n",
    "    plt.plot(yearly_sales.index, yearly_sales.values, marker='o', label=f\"{v_type} sales\")\n",
    "\n",
    "# Add unemployment rate if available\n",
    "if 'Unemployment_Rate' in recession_data.columns:\n",
    "    ax = plt.gca()\n",
    "    ax2 = ax.twinx()\n",
    "    \n",
    "    unemployment = recession_data.groupby('Year')['Unemployment_Rate'].mean()\n",
    "    ax2.plot(unemployment.index, unemployment.values, 'k--x', label='Unemployment')\n",
    "    \n",
    "    ax2.set_ylabel('Unemployment Rate')\n",
    "    ax2.legend(loc='upper right')\n",
    "\n",
    "plt.xlabel('Year')\n",
    "plt.ylabel('Sales')\n",
    "plt.title('Effect of Unemployment on Vehicle Sales During Recession')\n",
    "plt.legend(loc='upper left')\n",
    "plt.tight_layout()\n",
    "plt.savefig('Line_plot_3.png', dpi=150)\n",
    "plt.close()\n",
    "\n",
    "print(\"Saved Line_plot_3.png\")"
   ]
  },
  {
   "cell_type": "code",
   "execution_count": null,
   "id": "0b16ba1d-603f-4442-b594-67197cc61b08",
   "metadata": {},
   "outputs": [],
   "source": []
  }
 ],
 "metadata": {
  "kernelspec": {
   "display_name": "Python 3 (ipykernel)",
   "language": "python",
   "name": "python3"
  },
  "language_info": {
   "codemirror_mode": {
    "name": "ipython",
    "version": 3
   },
   "file_extension": ".py",
   "mimetype": "text/x-python",
   "name": "python",
   "nbconvert_exporter": "python",
   "pygments_lexer": "ipython3",
   "version": "3.12.4"
  }
 },
 "nbformat": 4,
 "nbformat_minor": 5
}
